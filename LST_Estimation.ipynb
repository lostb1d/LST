{
  "nbformat": 4,
  "nbformat_minor": 0,
  "metadata": {
    "colab": {
      "provenance": [],
      "authorship_tag": "ABX9TyOJQoIDoxcAvaHWYzkSbIiB",
      "include_colab_link": true
    },
    "kernelspec": {
      "name": "python3",
      "display_name": "Python 3"
    },
    "language_info": {
      "name": "python"
    }
  },
  "cells": [
    {
      "cell_type": "markdown",
      "metadata": {
        "id": "view-in-github",
        "colab_type": "text"
      },
      "source": [
        "<a href=\"https://colab.research.google.com/github/lostb1d/LST/blob/main/LST_Estimation.ipynb\" target=\"_parent\"><img src=\"https://colab.research.google.com/assets/colab-badge.svg\" alt=\"Open In Colab\"/></a>"
      ]
    },
    {
      "cell_type": "code",
      "source": [
        "#loading the Earth Engine API, GEE Authenticating and Loading Project\n",
        "import ee\n",
        "ee.Authenticate()\n",
        "ee.Initialize(project='lst-nou')\n",
        "import folium\n",
        "from IPython.display import Image"
      ],
      "metadata": {
        "id": "rVgSPH4tgmTK"
      },
      "execution_count": 32,
      "outputs": []
    },
    {
      "cell_type": "code",
      "source": [
        "\n",
        "# Access the Landsat 8 imagery collection\n",
        "image_collection = ee.ImageCollection('LANDSAT/LC08/C01/T1_SR')\n",
        "\n",
        "# Filter the collection by date\n",
        "image = image_collection.filterDate('2015-01-01', '2015-12-31').first()\n",
        "\n",
        "# Display the image\n",
        "# Map.addLayer(image, {'bands': ['B4'], 'min': 0, 'max': 0.3}, 'Landsat 8 Image')\n",
        "print(image.getInfo())"
      ],
      "metadata": {
        "id": "y1ZjbY0OOw3R",
        "colab": {
          "base_uri": "https://localhost:8080/"
        },
        "outputId": "0ce676b6-586b-4ab4-84a5-bc2d00fed0d8"
      },
      "execution_count": 27,
      "outputs": [
        {
          "output_type": "stream",
          "name": "stdout",
          "text": [
            "{'type': 'Image', 'bands': [{'id': 'B1', 'data_type': {'type': 'PixelType', 'precision': 'int', 'min': -32768, 'max': 32767}, 'dimensions': [9161, 9161], 'crs': 'EPSG:32628', 'crs_transform': [30, 0, 337785, 0, -30, 8811315]}, {'id': 'B2', 'data_type': {'type': 'PixelType', 'precision': 'int', 'min': -32768, 'max': 32767}, 'dimensions': [9161, 9161], 'crs': 'EPSG:32628', 'crs_transform': [30, 0, 337785, 0, -30, 8811315]}, {'id': 'B3', 'data_type': {'type': 'PixelType', 'precision': 'int', 'min': -32768, 'max': 32767}, 'dimensions': [9161, 9161], 'crs': 'EPSG:32628', 'crs_transform': [30, 0, 337785, 0, -30, 8811315]}, {'id': 'B4', 'data_type': {'type': 'PixelType', 'precision': 'int', 'min': -32768, 'max': 32767}, 'dimensions': [9161, 9161], 'crs': 'EPSG:32628', 'crs_transform': [30, 0, 337785, 0, -30, 8811315]}, {'id': 'B5', 'data_type': {'type': 'PixelType', 'precision': 'int', 'min': -32768, 'max': 32767}, 'dimensions': [9161, 9161], 'crs': 'EPSG:32628', 'crs_transform': [30, 0, 337785, 0, -30, 8811315]}, {'id': 'B6', 'data_type': {'type': 'PixelType', 'precision': 'int', 'min': -32768, 'max': 32767}, 'dimensions': [9161, 9161], 'crs': 'EPSG:32628', 'crs_transform': [30, 0, 337785, 0, -30, 8811315]}, {'id': 'B7', 'data_type': {'type': 'PixelType', 'precision': 'int', 'min': -32768, 'max': 32767}, 'dimensions': [9161, 9161], 'crs': 'EPSG:32628', 'crs_transform': [30, 0, 337785, 0, -30, 8811315]}, {'id': 'B10', 'data_type': {'type': 'PixelType', 'precision': 'int', 'min': -32768, 'max': 32767}, 'dimensions': [9161, 9161], 'crs': 'EPSG:32628', 'crs_transform': [30, 0, 337785, 0, -30, 8811315]}, {'id': 'B11', 'data_type': {'type': 'PixelType', 'precision': 'int', 'min': -32768, 'max': 32767}, 'dimensions': [9161, 9161], 'crs': 'EPSG:32628', 'crs_transform': [30, 0, 337785, 0, -30, 8811315]}, {'id': 'sr_aerosol', 'data_type': {'type': 'PixelType', 'precision': 'int', 'min': 0, 'max': 255}, 'dimensions': [9161, 9161], 'crs': 'EPSG:32628', 'crs_transform': [30, 0, 337785, 0, -30, 8811315]}, {'id': 'pixel_qa', 'data_type': {'type': 'PixelType', 'precision': 'int', 'min': 0, 'max': 65535}, 'dimensions': [9161, 9161], 'crs': 'EPSG:32628', 'crs_transform': [30, 0, 337785, 0, -30, 8811315]}, {'id': 'radsat_qa', 'data_type': {'type': 'PixelType', 'precision': 'int', 'min': 0, 'max': 65535}, 'dimensions': [9161, 9161], 'crs': 'EPSG:32628', 'crs_transform': [30, 0, 337785, 0, -30, 8811315]}], 'version': 1522727477588310.0, 'id': 'LANDSAT/LC08/C01/T1_SR/LC08_001004_20150511', 'properties': {'IMAGE_QUALITY_TIRS': 9, 'CLOUD_COVER': 73.43, 'EARTH_SUN_DISTANCE': 1.00996, 'LANDSAT_ID': 'LC08_L1TP_001004_20150511_20170409_01_T1', 'system:footprint': {'type': 'LinearRing', 'coordinates': [[-10.871081511235552, 78.01264315187812], [-10.543525121198412, 78.07099241587939], [-10.216512089965653, 78.12855906197917], [-10.216316614787297, 78.12904959343176], [-10.833699089928679, 78.27655125207347], [-15.422121659430399, 79.23269095208127], [-16.130543525464482, 79.36083422084333], [-21.82748743430751, 78.0920813679074], [-21.99937933860458, 78.04696833157976], [-16.880843979078374, 77.0858482265253], [-16.15952311571539, 76.92961555898225], [-15.634866398748219, 77.05011093455165], [-15.064485228331401, 77.17759941875224], [-14.548156554302476, 77.28990648350968], [-14.063290452405825, 77.39279023634231], [-13.564329626853027, 77.49614539582201], [-12.91746233884595, 77.62641744684497], [-12.394608486340246, 77.72879363533625], [-11.875318473525999, 77.82790278784383], [-11.362665958225515, 77.92333270669106], [-10.871081511235552, 78.01264315187812]]}, 'CLOUD_COVER_LAND': 45.8, 'GEOMETRIC_RMSE_MODEL': 8.563, 'SR_APP_VERSION': 'LaSRC_1.3.0', 'SATELLITE': 'LANDSAT_8', 'SOLAR_AZIMUTH_ANGLE': -161.758362, 'IMAGE_QUALITY_OLI': 9, 'WRS_PATH': 1, 'system:time_start': 1431353246200, 'SENSING_TIME': '2015-05-11T14:07:26.2012870Z', 'ESPA_VERSION': '2_23_0_1a', 'SOLAR_ZENITH_ANGLE': 60.794411, 'WRS_ROW': 4, 'GEOMETRIC_RMSE_MODEL_Y': 6.416, 'LEVEL1_PRODUCTION_DATE': 1491712661000, 'GEOMETRIC_RMSE_MODEL_X': 5.67, 'system:asset_size': 598862575, 'PIXEL_QA_VERSION': 'generate_pixel_qa_1.6.0', 'system:index': 'LC08_001004_20150511'}}\n"
          ]
        }
      ]
    },
    {
      "cell_type": "code",
      "source": [
        "map = folium.Map(location=[45.5236, -122.6750], zoom_start=13)\n",
        "display(map)"
      ],
      "metadata": {
        "colab": {
          "base_uri": "https://localhost:8080/",
          "height": 711
        },
        "id": "TWCbh6RoqKcL",
        "outputId": "34daa077-e0be-4e9f-dc5a-9f13cd7cd712"
      },
      "execution_count": 35,
      "outputs": [
        {
          "output_type": "display_data",
          "data": {
            "text/plain": [
              "<folium.folium.Map at 0x7bbabc0bada0>"
            ],
            "text/html": [
              "<div style=\"width:100%;\"><div style=\"position:relative;width:100%;height:0;padding-bottom:60%;\"><span style=\"color:#565656\">Make this Notebook Trusted to load map: File -> Trust Notebook</span><iframe srcdoc=\"&lt;!DOCTYPE html&gt;\n",
              "&lt;html&gt;\n",
              "&lt;head&gt;\n",
              "    \n",
              "    &lt;meta http-equiv=&quot;content-type&quot; content=&quot;text/html; charset=UTF-8&quot; /&gt;\n",
              "    \n",
              "        &lt;script&gt;\n",
              "            L_NO_TOUCH = false;\n",
              "            L_DISABLE_3D = false;\n",
              "        &lt;/script&gt;\n",
              "    \n",
              "    &lt;style&gt;html, body {width: 100%;height: 100%;margin: 0;padding: 0;}&lt;/style&gt;\n",
              "    &lt;style&gt;#map {position:absolute;top:0;bottom:0;right:0;left:0;}&lt;/style&gt;\n",
              "    &lt;script src=&quot;https://cdn.jsdelivr.net/npm/leaflet@1.9.3/dist/leaflet.js&quot;&gt;&lt;/script&gt;\n",
              "    &lt;script src=&quot;https://code.jquery.com/jquery-1.12.4.min.js&quot;&gt;&lt;/script&gt;\n",
              "    &lt;script src=&quot;https://cdn.jsdelivr.net/npm/bootstrap@5.2.2/dist/js/bootstrap.bundle.min.js&quot;&gt;&lt;/script&gt;\n",
              "    &lt;script src=&quot;https://cdnjs.cloudflare.com/ajax/libs/Leaflet.awesome-markers/2.0.2/leaflet.awesome-markers.js&quot;&gt;&lt;/script&gt;\n",
              "    &lt;link rel=&quot;stylesheet&quot; href=&quot;https://cdn.jsdelivr.net/npm/leaflet@1.9.3/dist/leaflet.css&quot;/&gt;\n",
              "    &lt;link rel=&quot;stylesheet&quot; href=&quot;https://cdn.jsdelivr.net/npm/bootstrap@5.2.2/dist/css/bootstrap.min.css&quot;/&gt;\n",
              "    &lt;link rel=&quot;stylesheet&quot; href=&quot;https://netdna.bootstrapcdn.com/bootstrap/3.0.0/css/bootstrap.min.css&quot;/&gt;\n",
              "    &lt;link rel=&quot;stylesheet&quot; href=&quot;https://cdn.jsdelivr.net/npm/@fortawesome/fontawesome-free@6.2.0/css/all.min.css&quot;/&gt;\n",
              "    &lt;link rel=&quot;stylesheet&quot; href=&quot;https://cdnjs.cloudflare.com/ajax/libs/Leaflet.awesome-markers/2.0.2/leaflet.awesome-markers.css&quot;/&gt;\n",
              "    &lt;link rel=&quot;stylesheet&quot; href=&quot;https://cdn.jsdelivr.net/gh/python-visualization/folium/folium/templates/leaflet.awesome.rotate.min.css&quot;/&gt;\n",
              "    \n",
              "            &lt;meta name=&quot;viewport&quot; content=&quot;width=device-width,\n",
              "                initial-scale=1.0, maximum-scale=1.0, user-scalable=no&quot; /&gt;\n",
              "            &lt;style&gt;\n",
              "                #map_3cc38529e6c411b63114af0d16a02140 {\n",
              "                    position: relative;\n",
              "                    width: 100.0%;\n",
              "                    height: 100.0%;\n",
              "                    left: 0.0%;\n",
              "                    top: 0.0%;\n",
              "                }\n",
              "                .leaflet-container { font-size: 1rem; }\n",
              "            &lt;/style&gt;\n",
              "        \n",
              "&lt;/head&gt;\n",
              "&lt;body&gt;\n",
              "    \n",
              "    \n",
              "            &lt;div class=&quot;folium-map&quot; id=&quot;map_3cc38529e6c411b63114af0d16a02140&quot; &gt;&lt;/div&gt;\n",
              "        \n",
              "&lt;/body&gt;\n",
              "&lt;script&gt;\n",
              "    \n",
              "    \n",
              "            var map_3cc38529e6c411b63114af0d16a02140 = L.map(\n",
              "                &quot;map_3cc38529e6c411b63114af0d16a02140&quot;,\n",
              "                {\n",
              "                    center: [45.5236, -122.675],\n",
              "                    crs: L.CRS.EPSG3857,\n",
              "                    zoom: 13,\n",
              "                    zoomControl: true,\n",
              "                    preferCanvas: false,\n",
              "                }\n",
              "            );\n",
              "\n",
              "            \n",
              "\n",
              "        \n",
              "    \n",
              "            var tile_layer_11c03407a567d6739ba9d8b1cb6a7f6f = L.tileLayer(\n",
              "                &quot;https://{s}.tile.openstreetmap.org/{z}/{x}/{y}.png&quot;,\n",
              "                {&quot;attribution&quot;: &quot;Data by \\u0026copy; \\u003ca target=\\&quot;_blank\\&quot; href=\\&quot;http://openstreetmap.org\\&quot;\\u003eOpenStreetMap\\u003c/a\\u003e, under \\u003ca target=\\&quot;_blank\\&quot; href=\\&quot;http://www.openstreetmap.org/copyright\\&quot;\\u003eODbL\\u003c/a\\u003e.&quot;, &quot;detectRetina&quot;: false, &quot;maxNativeZoom&quot;: 18, &quot;maxZoom&quot;: 18, &quot;minZoom&quot;: 0, &quot;noWrap&quot;: false, &quot;opacity&quot;: 1, &quot;subdomains&quot;: &quot;abc&quot;, &quot;tms&quot;: false}\n",
              "            ).addTo(map_3cc38529e6c411b63114af0d16a02140);\n",
              "        \n",
              "&lt;/script&gt;\n",
              "&lt;/html&gt;\" style=\"position:absolute;width:100%;height:100%;left:0;top:0;border:none !important;\" allowfullscreen webkitallowfullscreen mozallowfullscreen></iframe></div></div>"
            ]
          },
          "metadata": {}
        }
      ]
    }
  ]
}