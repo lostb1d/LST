{
  "nbformat": 4,
  "nbformat_minor": 0,
  "metadata": {
    "colab": {
      "provenance": [],
      "authorship_tag": "ABX9TyPo2efdSuZ57QM9ig8x92DE",
      "include_colab_link": true
    },
    "kernelspec": {
      "name": "python3",
      "display_name": "Python 3"
    },
    "language_info": {
      "name": "python"
    }
  },
  "cells": [
    {
      "cell_type": "markdown",
      "metadata": {
        "id": "view-in-github",
        "colab_type": "text"
      },
      "source": [
        "<a href=\"https://colab.research.google.com/github/lostb1d/LST/blob/main/LST_Estimation.ipynb\" target=\"_parent\"><img src=\"https://colab.research.google.com/assets/colab-badge.svg\" alt=\"Open In Colab\"/></a>"
      ]
    },
    {
      "cell_type": "code",
      "source": [
        "#mounting google drive\n",
        "from google.colab import drive\n",
        "drive.mount('/content/drive/')"
      ],
      "metadata": {
        "colab": {
          "base_uri": "https://localhost:8080/"
        },
        "id": "uO0fPzPj-lxZ",
        "outputId": "f5c696ba-a881-479f-bf86-f0b4c1c686ec"
      },
      "execution_count": 10,
      "outputs": [
        {
          "output_type": "stream",
          "name": "stdout",
          "text": [
            "Drive already mounted at /content/drive/; to attempt to forcibly remount, call drive.mount(\"/content/drive/\", force_remount=True).\n"
          ]
        }
      ]
    },
    {
      "cell_type": "code",
      "source": [
        "#loading the Earth Engine API, GEE Authenticating and Loading Project\n",
        "import ee\n",
        "import folium\n",
        "from IPython.display import Image\n",
        "import geemap\n",
        "\n",
        "try:\n",
        "  ee.Initialize()\n",
        "except Exception as e:\n",
        "  ee.Authenticate()\n",
        "ee.Authenticate()\n",
        "ee.Initialize(project='lst-nou')\n"
      ],
      "metadata": {
        "id": "rVgSPH4tgmTK",
        "colab": {
          "base_uri": "https://localhost:8080/",
          "height": 17
        },
        "outputId": "bbced181-1f58-416a-e2f9-afa0abf9f61c"
      },
      "execution_count": 2,
      "outputs": [
        {
          "output_type": "display_data",
          "data": {
            "text/plain": [
              "<IPython.core.display.HTML object>"
            ],
            "text/html": [
              "\n",
              "            <style>\n",
              "                .geemap-dark {\n",
              "                    --jp-widgets-color: white;\n",
              "                    --jp-widgets-label-color: white;\n",
              "                    --jp-ui-font-color1: white;\n",
              "                    --jp-layout-color2: #454545;\n",
              "                    background-color: #383838;\n",
              "                }\n",
              "\n",
              "                .geemap-dark .jupyter-button {\n",
              "                    --jp-layout-color3: #383838;\n",
              "                }\n",
              "\n",
              "                .geemap-colab {\n",
              "                    background-color: var(--colab-primary-surface-color, white);\n",
              "                }\n",
              "\n",
              "                .geemap-colab .jupyter-button {\n",
              "                    --jp-layout-color3: var(--colab-primary-surface-color, white);\n",
              "                }\n",
              "            </style>\n",
              "            "
            ]
          },
          "metadata": {}
        }
      ]
    },
    {
      "cell_type": "code",
      "source": [
        "#loading the shapefile from the above mounted google drive\n",
        "\n",
        "shape_path = '/content/drive/MyDrive/LST/Shapefiles/Dang/Bajura_Local.shp'\n",
        "print(shape_path)\n",
        "shp = geemap.shp_to_ee(shape_path)\n"
      ],
      "metadata": {
        "colab": {
          "base_uri": "https://localhost:8080/",
          "height": 34
        },
        "id": "Y0-lsrm9Afj1",
        "outputId": "1ef6b746-f829-4b7e-9044-de731e753596"
      },
      "execution_count": 3,
      "outputs": [
        {
          "output_type": "display_data",
          "data": {
            "text/plain": [
              "<IPython.core.display.HTML object>"
            ],
            "text/html": [
              "\n",
              "            <style>\n",
              "                .geemap-dark {\n",
              "                    --jp-widgets-color: white;\n",
              "                    --jp-widgets-label-color: white;\n",
              "                    --jp-ui-font-color1: white;\n",
              "                    --jp-layout-color2: #454545;\n",
              "                    background-color: #383838;\n",
              "                }\n",
              "\n",
              "                .geemap-dark .jupyter-button {\n",
              "                    --jp-layout-color3: #383838;\n",
              "                }\n",
              "\n",
              "                .geemap-colab {\n",
              "                    background-color: var(--colab-primary-surface-color, white);\n",
              "                }\n",
              "\n",
              "                .geemap-colab .jupyter-button {\n",
              "                    --jp-layout-color3: var(--colab-primary-surface-color, white);\n",
              "                }\n",
              "            </style>\n",
              "            "
            ]
          },
          "metadata": {}
        },
        {
          "output_type": "stream",
          "name": "stdout",
          "text": [
            "/content/drive/MyDrive/LST/Shapefiles/Dang/Bajura_Local.shp\n"
          ]
        }
      ]
    },
    {
      "cell_type": "code",
      "source": [
        "# Define a region of interest\n",
        "roi = ee.Geometry.Polygon( [\n",
        "            [\n",
        "              82.21808522925141,\n",
        "              28.336850451368647\n",
        "            ],\n",
        "            [\n",
        "              81.91592954680112,\n",
        "              28.126683552796777\n",
        "            ],\n",
        "            [\n",
        "              81.90291805808266,\n",
        "              27.841984062675692\n",
        "            ],\n",
        "            [\n",
        "              82.443617700363,\n",
        "              27.61804029507458\n",
        "            ],\n",
        "            [\n",
        "              82.68939026503506,\n",
        "              27.633411121765874\n",
        "            ],\n",
        "            [\n",
        "              82.92215134098836,\n",
        "              27.711512766230356\n",
        "            ],\n",
        "            [\n",
        "              82.69328913525277,\n",
        "              28.197409554609237\n",
        "            ],\n",
        "            [\n",
        "              82.50245396738859,\n",
        "              28.300565811038936\n",
        "            ],\n",
        "            [\n",
        "              82.21808522925141,\n",
        "              28.336850451368647\n",
        "            ]\n",
        "          ])\n",
        "\n",
        "# Access the Landsat 8 imagery collection\n",
        "image_collection = ee.ImageCollection('LANDSAT/LC08/C01/T1_SR')\n",
        "\n",
        "# Filter the collection by date\n",
        "image = image_collection.filterDate('2015-01-01', '2015-12-31').filterBounds(roi).sort('CLOUD_COVER').first()\n",
        "image = image.clip(roi)\n",
        "\n",
        "\n",
        "landsat_rgb = image.select(['B4', 'B3', 'B2'])\n",
        "\n",
        "# Display the image\n",
        "print(image.getInfo())"
      ],
      "metadata": {
        "id": "y1ZjbY0OOw3R",
        "colab": {
          "base_uri": "https://localhost:8080/",
          "height": 54
        },
        "outputId": "9ac6318a-2c65-40e3-a439-32aafe8ca2ed"
      },
      "execution_count": 12,
      "outputs": [
        {
          "output_type": "display_data",
          "data": {
            "text/plain": [
              "<IPython.core.display.HTML object>"
            ],
            "text/html": [
              "\n",
              "            <style>\n",
              "                .geemap-dark {\n",
              "                    --jp-widgets-color: white;\n",
              "                    --jp-widgets-label-color: white;\n",
              "                    --jp-ui-font-color1: white;\n",
              "                    --jp-layout-color2: #454545;\n",
              "                    background-color: #383838;\n",
              "                }\n",
              "\n",
              "                .geemap-dark .jupyter-button {\n",
              "                    --jp-layout-color3: #383838;\n",
              "                }\n",
              "\n",
              "                .geemap-colab {\n",
              "                    background-color: var(--colab-primary-surface-color, white);\n",
              "                }\n",
              "\n",
              "                .geemap-colab .jupyter-button {\n",
              "                    --jp-layout-color3: var(--colab-primary-surface-color, white);\n",
              "                }\n",
              "            </style>\n",
              "            "
            ]
          },
          "metadata": {}
        },
        {
          "output_type": "stream",
          "name": "stdout",
          "text": [
            "{'type': 'Image', 'bands': [{'id': 'B1', 'data_type': {'type': 'PixelType', 'precision': 'int', 'min': -32768, 'max': 32767}, 'dimensions': [3355, 2648], 'origin': [2850, 506], 'crs': 'EPSG:32644', 'crs_transform': [30, 0, 503385, 0, -30, 3150315]}, {'id': 'B2', 'data_type': {'type': 'PixelType', 'precision': 'int', 'min': -32768, 'max': 32767}, 'dimensions': [3355, 2648], 'origin': [2850, 506], 'crs': 'EPSG:32644', 'crs_transform': [30, 0, 503385, 0, -30, 3150315]}, {'id': 'B3', 'data_type': {'type': 'PixelType', 'precision': 'int', 'min': -32768, 'max': 32767}, 'dimensions': [3355, 2648], 'origin': [2850, 506], 'crs': 'EPSG:32644', 'crs_transform': [30, 0, 503385, 0, -30, 3150315]}, {'id': 'B4', 'data_type': {'type': 'PixelType', 'precision': 'int', 'min': -32768, 'max': 32767}, 'dimensions': [3355, 2648], 'origin': [2850, 506], 'crs': 'EPSG:32644', 'crs_transform': [30, 0, 503385, 0, -30, 3150315]}, {'id': 'B5', 'data_type': {'type': 'PixelType', 'precision': 'int', 'min': -32768, 'max': 32767}, 'dimensions': [3355, 2648], 'origin': [2850, 506], 'crs': 'EPSG:32644', 'crs_transform': [30, 0, 503385, 0, -30, 3150315]}, {'id': 'B6', 'data_type': {'type': 'PixelType', 'precision': 'int', 'min': -32768, 'max': 32767}, 'dimensions': [3355, 2648], 'origin': [2850, 506], 'crs': 'EPSG:32644', 'crs_transform': [30, 0, 503385, 0, -30, 3150315]}, {'id': 'B7', 'data_type': {'type': 'PixelType', 'precision': 'int', 'min': -32768, 'max': 32767}, 'dimensions': [3355, 2648], 'origin': [2850, 506], 'crs': 'EPSG:32644', 'crs_transform': [30, 0, 503385, 0, -30, 3150315]}, {'id': 'B10', 'data_type': {'type': 'PixelType', 'precision': 'int', 'min': -32768, 'max': 32767}, 'dimensions': [3355, 2648], 'origin': [2850, 506], 'crs': 'EPSG:32644', 'crs_transform': [30, 0, 503385, 0, -30, 3150315]}, {'id': 'B11', 'data_type': {'type': 'PixelType', 'precision': 'int', 'min': -32768, 'max': 32767}, 'dimensions': [3355, 2648], 'origin': [2850, 506], 'crs': 'EPSG:32644', 'crs_transform': [30, 0, 503385, 0, -30, 3150315]}, {'id': 'sr_aerosol', 'data_type': {'type': 'PixelType', 'precision': 'int', 'min': 0, 'max': 255}, 'dimensions': [3355, 2648], 'origin': [2850, 506], 'crs': 'EPSG:32644', 'crs_transform': [30, 0, 503385, 0, -30, 3150315]}, {'id': 'pixel_qa', 'data_type': {'type': 'PixelType', 'precision': 'int', 'min': 0, 'max': 65535}, 'dimensions': [3355, 2648], 'origin': [2850, 506], 'crs': 'EPSG:32644', 'crs_transform': [30, 0, 503385, 0, -30, 3150315]}, {'id': 'radsat_qa', 'data_type': {'type': 'PixelType', 'precision': 'int', 'min': 0, 'max': 65535}, 'dimensions': [3355, 2648], 'origin': [2850, 506], 'crs': 'EPSG:32644', 'crs_transform': [30, 0, 503385, 0, -30, 3150315]}], 'version': 1522714047083922, 'id': 'LANDSAT/LC08/C01/T1_SR/LC08_143041_20151106', 'properties': {'system:footprint': {'type': 'Polygon', 'coordinates': [[[82.5809086604273, 28.25821323771937], [82.21082072669955, 28.331815067268757], [81.91592954680112, 28.126683552796777], [81.90291805808266, 27.841984062675696], [82.443617700363, 27.618040295074575], [82.68939026503506, 27.633411121765874], [82.92215134098836, 27.711512766230356], [82.69328913525277, 28.197409554609234], [82.5809086604273, 28.25821323771937]]]}, 'IMAGE_QUALITY_TIRS': 9, 'CLOUD_COVER': 0.01, 'EARTH_SUN_DISTANCE': 0.991387, 'LANDSAT_ID': 'LC08_L1TP_143041_20151106_20170402_01_T1', 'CLOUD_COVER_LAND': 0.01, 'GEOMETRIC_RMSE_MODEL': 7.506, 'SR_APP_VERSION': 'LaSRC_1.3.0', 'SATELLITE': 'LANDSAT_8', 'SOLAR_AZIMUTH_ANGLE': 155.275421, 'IMAGE_QUALITY_OLI': 9, 'WRS_PATH': 143, 'system:time_start': 1446786049450, 'SENSING_TIME': '2015-11-06T05:00:49.4543280Z', 'ESPA_VERSION': '2_23_0_1a', 'SOLAR_ZENITH_ANGLE': 46.878914, 'WRS_ROW': 41, 'GEOMETRIC_RMSE_MODEL_Y': 5.147, 'LEVEL1_PRODUCTION_DATE': 1491122265000, 'GEOMETRIC_RMSE_MODEL_X': 5.464, 'system:asset_size': 633617416, 'PIXEL_QA_VERSION': 'generate_pixel_qa_1.6.0', 'system:index': 'LC08_143041_20151106'}}\n"
          ]
        }
      ]
    },
    {
      "cell_type": "code",
      "source": [
        "vis_params = {\n",
        "    'bands': ['B4', 'B3', 'B2'],\n",
        "    'min': 0,\n",
        "    'max': 3000,\n",
        "    'gamma': 1.4\n",
        "}\n",
        "\n",
        "def get_tile_url(ee_image, vis_params):\n",
        "  map_id_dict = ee.Image(ee_image).getMapId(vis_params)\n",
        "  map_id = map_id_dict['tile_fetcher'].url_format\n",
        "  return map_id\n",
        "\n",
        "tile_url = get_tile_url(landsat_rgb, vis_params)\n",
        "print(tile_url)"
      ],
      "metadata": {
        "colab": {
          "base_uri": "https://localhost:8080/",
          "height": 34
        },
        "id": "EvqdDY4k6qTS",
        "outputId": "6d60984c-6c52-472f-8aa1-0fc4e341c751"
      },
      "execution_count": 13,
      "outputs": [
        {
          "output_type": "display_data",
          "data": {
            "text/plain": [
              "<IPython.core.display.HTML object>"
            ],
            "text/html": [
              "\n",
              "            <style>\n",
              "                .geemap-dark {\n",
              "                    --jp-widgets-color: white;\n",
              "                    --jp-widgets-label-color: white;\n",
              "                    --jp-ui-font-color1: white;\n",
              "                    --jp-layout-color2: #454545;\n",
              "                    background-color: #383838;\n",
              "                }\n",
              "\n",
              "                .geemap-dark .jupyter-button {\n",
              "                    --jp-layout-color3: #383838;\n",
              "                }\n",
              "\n",
              "                .geemap-colab {\n",
              "                    background-color: var(--colab-primary-surface-color, white);\n",
              "                }\n",
              "\n",
              "                .geemap-colab .jupyter-button {\n",
              "                    --jp-layout-color3: var(--colab-primary-surface-color, white);\n",
              "                }\n",
              "            </style>\n",
              "            "
            ]
          },
          "metadata": {}
        },
        {
          "output_type": "stream",
          "name": "stdout",
          "text": [
            "https://earthengine.googleapis.com/v1/projects/lst-nou/maps/3210797abab4670ca22e544eb8dad4f1-0ca456b867c1631006c9df174169ae2b/tiles/{z}/{x}/{y}\n"
          ]
        }
      ]
    },
    {
      "cell_type": "code",
      "source": [
        "# Create a Folium map object\n",
        "map = folium.Map(location=[28.17, 82.37], zoom_start=10)\n",
        "\n",
        "# Add the tile layer to the map\n",
        "folium.TileLayer(\n",
        "    tiles=tile_url,\n",
        "    attr='Google Earth Engine',\n",
        "    max_zoom=24\n",
        ").add_to(map)\n",
        "\n",
        "# Display the map\n",
        "map\n"
      ],
      "metadata": {
        "colab": {
          "base_uri": "https://localhost:8080/",
          "height": 711
        },
        "id": "O6UfR_CTgxS3",
        "outputId": "d464d12f-c2fd-48ba-f0e5-0ff72019e3ef"
      },
      "execution_count": 15,
      "outputs": [
        {
          "output_type": "display_data",
          "data": {
            "text/plain": [
              "<IPython.core.display.HTML object>"
            ],
            "text/html": [
              "\n",
              "            <style>\n",
              "                .geemap-dark {\n",
              "                    --jp-widgets-color: white;\n",
              "                    --jp-widgets-label-color: white;\n",
              "                    --jp-ui-font-color1: white;\n",
              "                    --jp-layout-color2: #454545;\n",
              "                    background-color: #383838;\n",
              "                }\n",
              "\n",
              "                .geemap-dark .jupyter-button {\n",
              "                    --jp-layout-color3: #383838;\n",
              "                }\n",
              "\n",
              "                .geemap-colab {\n",
              "                    background-color: var(--colab-primary-surface-color, white);\n",
              "                }\n",
              "\n",
              "                .geemap-colab .jupyter-button {\n",
              "                    --jp-layout-color3: var(--colab-primary-surface-color, white);\n",
              "                }\n",
              "            </style>\n",
              "            "
            ]
          },
          "metadata": {}
        },
        {
          "output_type": "execute_result",
          "data": {
            "text/plain": [
              "<folium.folium.Map at 0x7d57fcc1b580>"
            ],
            "text/html": [
              "<div style=\"width:100%;\"><div style=\"position:relative;width:100%;height:0;padding-bottom:60%;\"><span style=\"color:#565656\">Make this Notebook Trusted to load map: File -> Trust Notebook</span><iframe srcdoc=\"&lt;!DOCTYPE html&gt;\n",
              "&lt;html&gt;\n",
              "&lt;head&gt;\n",
              "    \n",
              "    &lt;meta http-equiv=&quot;content-type&quot; content=&quot;text/html; charset=UTF-8&quot; /&gt;\n",
              "    \n",
              "        &lt;script&gt;\n",
              "            L_NO_TOUCH = false;\n",
              "            L_DISABLE_3D = false;\n",
              "        &lt;/script&gt;\n",
              "    \n",
              "    &lt;style&gt;html, body {width: 100%;height: 100%;margin: 0;padding: 0;}&lt;/style&gt;\n",
              "    &lt;style&gt;#map {position:absolute;top:0;bottom:0;right:0;left:0;}&lt;/style&gt;\n",
              "    &lt;script src=&quot;https://cdn.jsdelivr.net/npm/leaflet@1.9.3/dist/leaflet.js&quot;&gt;&lt;/script&gt;\n",
              "    &lt;script src=&quot;https://code.jquery.com/jquery-1.12.4.min.js&quot;&gt;&lt;/script&gt;\n",
              "    &lt;script src=&quot;https://cdn.jsdelivr.net/npm/bootstrap@5.2.2/dist/js/bootstrap.bundle.min.js&quot;&gt;&lt;/script&gt;\n",
              "    &lt;script src=&quot;https://cdnjs.cloudflare.com/ajax/libs/Leaflet.awesome-markers/2.0.2/leaflet.awesome-markers.js&quot;&gt;&lt;/script&gt;\n",
              "    &lt;link rel=&quot;stylesheet&quot; href=&quot;https://cdn.jsdelivr.net/npm/leaflet@1.9.3/dist/leaflet.css&quot;/&gt;\n",
              "    &lt;link rel=&quot;stylesheet&quot; href=&quot;https://cdn.jsdelivr.net/npm/bootstrap@5.2.2/dist/css/bootstrap.min.css&quot;/&gt;\n",
              "    &lt;link rel=&quot;stylesheet&quot; href=&quot;https://netdna.bootstrapcdn.com/bootstrap/3.0.0/css/bootstrap.min.css&quot;/&gt;\n",
              "    &lt;link rel=&quot;stylesheet&quot; href=&quot;https://cdn.jsdelivr.net/npm/@fortawesome/fontawesome-free@6.2.0/css/all.min.css&quot;/&gt;\n",
              "    &lt;link rel=&quot;stylesheet&quot; href=&quot;https://cdnjs.cloudflare.com/ajax/libs/Leaflet.awesome-markers/2.0.2/leaflet.awesome-markers.css&quot;/&gt;\n",
              "    &lt;link rel=&quot;stylesheet&quot; href=&quot;https://cdn.jsdelivr.net/gh/python-visualization/folium/folium/templates/leaflet.awesome.rotate.min.css&quot;/&gt;\n",
              "    \n",
              "            &lt;meta name=&quot;viewport&quot; content=&quot;width=device-width,\n",
              "                initial-scale=1.0, maximum-scale=1.0, user-scalable=no&quot; /&gt;\n",
              "            &lt;style&gt;\n",
              "                #map_59405b23bf833492c2cbaa1b8893d79f {\n",
              "                    position: relative;\n",
              "                    width: 100.0%;\n",
              "                    height: 100.0%;\n",
              "                    left: 0.0%;\n",
              "                    top: 0.0%;\n",
              "                }\n",
              "                .leaflet-container { font-size: 1rem; }\n",
              "            &lt;/style&gt;\n",
              "        \n",
              "&lt;/head&gt;\n",
              "&lt;body&gt;\n",
              "    \n",
              "    \n",
              "            &lt;div class=&quot;folium-map&quot; id=&quot;map_59405b23bf833492c2cbaa1b8893d79f&quot; &gt;&lt;/div&gt;\n",
              "        \n",
              "&lt;/body&gt;\n",
              "&lt;script&gt;\n",
              "    \n",
              "    \n",
              "            var map_59405b23bf833492c2cbaa1b8893d79f = L.map(\n",
              "                &quot;map_59405b23bf833492c2cbaa1b8893d79f&quot;,\n",
              "                {\n",
              "                    center: [28.17, 82.37],\n",
              "                    crs: L.CRS.EPSG3857,\n",
              "                    zoom: 10,\n",
              "                    zoomControl: true,\n",
              "                    preferCanvas: false,\n",
              "                }\n",
              "            );\n",
              "\n",
              "            \n",
              "\n",
              "        \n",
              "    \n",
              "            var tile_layer_4f1253ee01db205b2ff597b7ae919fa0 = L.tileLayer(\n",
              "                &quot;https://{s}.tile.openstreetmap.org/{z}/{x}/{y}.png&quot;,\n",
              "                {&quot;attribution&quot;: &quot;Data by \\u0026copy; \\u003ca target=\\&quot;_blank\\&quot; href=\\&quot;http://openstreetmap.org\\&quot;\\u003eOpenStreetMap\\u003c/a\\u003e, under \\u003ca target=\\&quot;_blank\\&quot; href=\\&quot;http://www.openstreetmap.org/copyright\\&quot;\\u003eODbL\\u003c/a\\u003e.&quot;, &quot;detectRetina&quot;: false, &quot;maxNativeZoom&quot;: 18, &quot;maxZoom&quot;: 18, &quot;minZoom&quot;: 0, &quot;noWrap&quot;: false, &quot;opacity&quot;: 1, &quot;subdomains&quot;: &quot;abc&quot;, &quot;tms&quot;: false}\n",
              "            ).addTo(map_59405b23bf833492c2cbaa1b8893d79f);\n",
              "        \n",
              "    \n",
              "            var tile_layer_c568be92e6096dcc6797e7e00b929189 = L.tileLayer(\n",
              "                &quot;https://earthengine.googleapis.com/v1/projects/lst-nou/maps/3210797abab4670ca22e544eb8dad4f1-0ca456b867c1631006c9df174169ae2b/tiles/{z}/{x}/{y}&quot;,\n",
              "                {&quot;attribution&quot;: &quot;Google Earth Engine&quot;, &quot;detectRetina&quot;: false, &quot;maxNativeZoom&quot;: 24, &quot;maxZoom&quot;: 24, &quot;minZoom&quot;: 0, &quot;noWrap&quot;: false, &quot;opacity&quot;: 1, &quot;subdomains&quot;: &quot;abc&quot;, &quot;tms&quot;: false}\n",
              "            ).addTo(map_59405b23bf833492c2cbaa1b8893d79f);\n",
              "        \n",
              "&lt;/script&gt;\n",
              "&lt;/html&gt;\" style=\"position:absolute;width:100%;height:100%;left:0;top:0;border:none !important;\" allowfullscreen webkitallowfullscreen mozallowfullscreen></iframe></div></div>"
            ]
          },
          "metadata": {},
          "execution_count": 15
        }
      ]
    }
  ]
}